{
 "cells": [
  {
   "cell_type": "code",
   "execution_count": 1,
   "id": "3eb40e46",
   "metadata": {
    "height": 47
   },
   "outputs": [],
   "source": [
    "# !pip install cohere\n",
    "# !pip install weaviate-client"
   ]
  },
  {
   "cell_type": "code",
   "execution_count": 2,
   "id": "12602cc5",
   "metadata": {
    "height": 64
   },
   "outputs": [],
   "source": [
    "import os\n",
    "from dotenv import load_dotenv, find_dotenv\n",
    "_ = load_dotenv(find_dotenv()) # read local .env file"
   ]
  },
  {
   "cell_type": "markdown",
   "id": "2bec9d2e",
   "metadata": {},
   "source": [
    "Let's start by imporing Weaviate to access the Wikipedia database."
   ]
  },
  {
   "cell_type": "code",
   "execution_count": 3,
   "id": "a19b66d2",
   "metadata": {
    "height": 64
   },
   "outputs": [],
   "source": [
    "import weaviate\n",
    "auth_config = weaviate.auth.AuthApiKey(\n",
    "    api_key=os.environ['WEAVIATE_API_KEY'])"
   ]
  },
  {
   "cell_type": "code",
   "execution_count": 4,
   "id": "f4c2460c",
   "metadata": {
    "height": 132
   },
   "outputs": [],
   "source": [
    "client = weaviate.Client(\n",
    "    url=os.environ['WEAVIATE_API_URL'],\n",
    "    auth_client_secret=auth_config,\n",
    "    additional_headers={\n",
    "        \"X-Cohere-Api-Key\": os.environ['COHERE_API_KEY'],\n",
    "    }\n",
    ")"
   ]
  },
  {
   "cell_type": "code",
   "execution_count": 6,
   "id": "a80cfe93",
   "metadata": {
    "height": 30
   },
   "outputs": [
    {
     "data": {
      "text/plain": [
       "True"
      ]
     },
     "execution_count": 6,
     "metadata": {},
     "output_type": "execute_result"
    }
   ],
   "source": [
    "client.is_ready()"
   ]
  },
  {
   "cell_type": "markdown",
   "id": "875081dc",
   "metadata": {
    "height": 30
   },
   "source": [
    "# Keyword search"
   ]
  },
  {
   "cell_type": "code",
   "execution_count": 8,
   "id": "471caa37",
   "metadata": {
    "height": 404
   },
   "outputs": [],
   "source": [
    "def keyword_search(query,\n",
    "                   results_lang='en',\n",
    "                   properties = [\"title\",\"url\",\"text\"],\n",
    "                   num_results=3):\n",
    "\n",
    "    where_filter = {\n",
    "    \"path\": [\"lang\"],\n",
    "    \"operator\": \"Equal\",\n",
    "    \"valueString\": results_lang\n",
    "    }\n",
    "    \n",
    "    response = (\n",
    "        client.query.get(\"Articles\", properties)\n",
    "        .with_bm25(\n",
    "            query=query\n",
    "        )\n",
    "        .with_where(where_filter)\n",
    "        .with_limit(num_results)\n",
    "        .do()\n",
    "        )\n",
    "\n",
    "    result = response['data']['Get']['Articles']\n",
    "    return result"
   ]
  },
  {
   "cell_type": "code",
   "execution_count": 9,
   "id": "dc7d4b4a",
   "metadata": {
    "height": 64
   },
   "outputs": [
    {
     "name": "stdout",
     "output_type": "stream",
     "text": [
      "[{'text': 'Gujarati (; , ) is an Indo-Aryan language native to the Indian state of Gujarat and spoken predominantly by the Gujarati people. Gujarati is descended from Old Gujarati (). In India, it is one of the 22 scheduled languages of the Union. It is also the official language in the state of Gujarat, as well as an official language in the union territory of Dadra and Nagar Haveli and Daman and Diu. As of 2011, Gujarati is the 6th most widely spoken language in India by number of native speakers, spoken by 55.5\\xa0million speakers which amounts to about 4.5% of the total Indian population. It is the 26th most widely spoken language in the world by number of native speakers as of 2007.', 'title': 'Gujarati language', 'url': 'https://en.wikipedia.org/wiki?curid=143117'}, {'text': 'Nepali is the third-most spoken language in the Australian territory of Tasmania, where it is spoken by 1.3% of its population, and fifth-most spoken language in the Northern Territory, Australia, spoken by 1.3% of its population.', 'title': 'Nepali language', 'url': 'https://en.wikipedia.org/wiki?curid=47864412'}, {'text': \"Outside of Gujarat, Gujarati is spoken in many other parts of South Asia by Gujarati migrants, especially in Mumbai and Pakistan (mainly in Karachi). Gujarati is also widely spoken in many countries outside South Asia by the Gujarati diaspora. In North America, Gujarati is one of the fastest-growing and most widely spoken Indian languages in the United States and Canada. In Europe, Gujaratis form the second largest of the British South Asian speech communities, and Gujarati is the fourth most commonly spoken language in the UK's capital London. Gujarati is also spoken in Southeast Africa, particularly in Kenya, Uganda, Tanzania, Zambia, and South Africa. Elsewhere, Gujarati is spoken to a lesser extent in Hong Kong, Indonesia, Singapore, Australia, and Middle Eastern countries such as Bahrain and the United Arab Emirates.\", 'title': 'Gujarati language', 'url': 'https://en.wikipedia.org/wiki?curid=143117'}]\n"
     ]
    }
   ],
   "source": [
    "query = \"What is the most spoken language in the world?\"\n",
    "keyword_search_results = keyword_search(query)\n",
    "print(keyword_search_results)"
   ]
  },
  {
   "cell_type": "code",
   "execution_count": 13,
   "id": "696b2451",
   "metadata": {
    "height": 47
   },
   "outputs": [],
   "source": [
    "properties = [\"text\", \"title\", \"url\", \n",
    "             \"views\", \"lang\"]"
   ]
  },
  {
   "cell_type": "code",
   "execution_count": 14,
   "id": "3b1c58d1",
   "metadata": {
    "height": 149
   },
   "outputs": [],
   "source": [
    "def print_result(result):\n",
    "    \"\"\" Print results with colorful formatting \"\"\"\n",
    "    for i,item in enumerate(result):\n",
    "        print(f'item {i}')\n",
    "        for key in item.keys():\n",
    "            print(f\"{key}:{item.get(key)}\")\n",
    "            print()\n",
    "        print()"
   ]
  },
  {
   "cell_type": "markdown",
   "id": "9482b106",
   "metadata": {},
   "source": [
    "Searching the query in documents with different languages."
   ]
  },
  {
   "cell_type": "code",
   "execution_count": null,
   "id": "8526236e",
   "metadata": {
    "height": 115
   },
   "outputs": [],
   "source": [
    "query = \"What is the most spoken languages in the world?\"\n",
    "keyword_search_results = keyword_search(query, results_lang='es')\n",
    "print_result(keyword_search_results)\n",
    "\n",
    "# list of other languages\n",
    "# en, de, fr,  es, it, ja, ar, zh, ko, hi"
   ]
  }
 ],
 "metadata": {
  "kernelspec": {
   "display_name": "Python 3 (ipykernel)",
   "language": "python",
   "name": "python3"
  },
  "language_info": {
   "codemirror_mode": {
    "name": "ipython",
    "version": 3
   },
   "file_extension": ".py",
   "mimetype": "text/x-python",
   "name": "python",
   "nbconvert_exporter": "python",
   "pygments_lexer": "ipython3",
   "version": "3.9.17"
  }
 },
 "nbformat": 4,
 "nbformat_minor": 5
}
